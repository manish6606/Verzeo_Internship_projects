{
 "cells": [
  {
   "cell_type": "code",
   "execution_count": 22,
   "metadata": {},
   "outputs": [
    {
     "name": "stdout",
     "output_type": "stream",
     "text": [
      "Requirement already satisfied: pipwin in c:\\users\\manis\\anaconda3\\lib\\site-packages (0.5.1)\n",
      "Requirement already satisfied: pyprind in c:\\users\\manis\\anaconda3\\lib\\site-packages (from pipwin) (2.11.3)\n",
      "Requirement already satisfied: six in c:\\users\\manis\\anaconda3\\lib\\site-packages (from pipwin) (1.14.0)\n",
      "Requirement already satisfied: requests in c:\\users\\manis\\anaconda3\\lib\\site-packages (from pipwin) (2.22.0)\n",
      "Requirement already satisfied: docopt in c:\\users\\manis\\anaconda3\\lib\\site-packages (from pipwin) (0.6.2)\n",
      "Requirement already satisfied: js2py in c:\\users\\manis\\anaconda3\\lib\\site-packages (from pipwin) (0.71)\n",
      "Requirement already satisfied: beautifulsoup4>=4.9.0 in c:\\users\\manis\\anaconda3\\lib\\site-packages (from pipwin) (4.9.3)\n",
      "Requirement already satisfied: pySmartDL>=1.3.1; python_version >= \"3.4\" in c:\\users\\manis\\anaconda3\\lib\\site-packages (from pipwin) (1.3.4)\n",
      "Requirement already satisfied: packaging in c:\\users\\manis\\anaconda3\\lib\\site-packages (from pipwin) (20.1)\n",
      "Requirement already satisfied: certifi>=2017.4.17 in c:\\users\\manis\\anaconda3\\lib\\site-packages (from requests->pipwin) (2019.11.28)\n",
      "Requirement already satisfied: chardet<3.1.0,>=3.0.2 in c:\\users\\manis\\anaconda3\\lib\\site-packages (from requests->pipwin) (3.0.4)\n",
      "Requirement already satisfied: urllib3!=1.25.0,!=1.25.1,<1.26,>=1.21.1 in c:\\users\\manis\\anaconda3\\lib\\site-packages (from requests->pipwin) (1.25.8)\n",
      "Requirement already satisfied: idna<2.9,>=2.5 in c:\\users\\manis\\anaconda3\\lib\\site-packages (from requests->pipwin) (2.8)\n",
      "Requirement already satisfied: pyjsparser>=2.5.1 in c:\\users\\manis\\anaconda3\\lib\\site-packages (from js2py->pipwin) (2.7.1)\n",
      "Requirement already satisfied: tzlocal>=1.2 in c:\\users\\manis\\anaconda3\\lib\\site-packages (from js2py->pipwin) (2.1)\n",
      "Requirement already satisfied: soupsieve>1.2; python_version >= \"3.0\" in c:\\users\\manis\\anaconda3\\lib\\site-packages (from beautifulsoup4>=4.9.0->pipwin) (1.9.5)\n",
      "Requirement already satisfied: pyparsing>=2.0.2 in c:\\users\\manis\\anaconda3\\lib\\site-packages (from packaging->pipwin) (2.4.6)\n",
      "Requirement already satisfied: pytz in c:\\users\\manis\\anaconda3\\lib\\site-packages (from tzlocal>=1.2->js2py->pipwin) (2019.3)\n",
      "Package `pyaudio` found in cache\n",
      "Downloading package . . .\n",
      "https://download.lfd.uci.edu/pythonlibs/r4tycu3t/PyAudio-0.2.11-cp37-cp37m-win_amd64.whl\n",
      "PyAudio-0.2.11-cp37-cp37m-win_amd64.whl\n",
      "[*] 0 bytes / 110 kB @ 0 bytes/s [------------------] [0.0%, 0s left]   [*] 0 bytes / 110 kB @ 0 bytes/s [------------------] [0.0%, 0s left]   [*] 0 bytes / 110 kB @ 0 bytes/s [------------------] [0.0%, 0s left]   [*] 0 bytes / 110 kB @ 0 bytes/s [------------------] [0.0%, 0s left]   [*] 0 bytes / 110 kB @ 0 bytes/s [------------------] [0.0%, 0s left]   [*] 0 bytes / 110 kB @ 0 bytes/s [------------------] [0.0%, 0s left]   [*] 0 bytes / 110 kB @ 0 bytes/s [------------------] [0.0%, 0s left]   [*] 0 bytes / 110 kB @ 0 bytes/s [------------------] [0.0%, 0s left]   [*] 0 bytes / 110 kB @ 0 bytes/s [------------------] [0.0%, 0s left]   [*] 0 bytes / 110 kB @ 0 bytes/s [------------------] [0.0%, 0s left]   [*] 0 bytes / 110 kB @ 0 bytes/s [------------------] [0.0%, 0s left]   [*] 0 bytes / 110 kB @ 0 bytes/s [------------------] [0.0%, 0s left]   [*] 0 bytes / 110 kB @ 0 bytes/s [------------------] [0.0%, 0s left]   [*] 0 bytes / 110 kB @ 0 bytes/s [------------------] [0.0%, 0s left]   [*] 8 kB / 110 kB @ 5 kB/s [#-----------------] [7.3%, 0s left]   [*] 8 kB / 110 kB @ 5 kB/s [#-----------------] [7.3%, 0s left]   [*] 8 kB / 110 kB @ 5 kB/s [#-----------------] [7.3%, 0s left]   [*] 8 kB / 110 kB @ 4 kB/s [#-----------------] [7.3%, 0s left]   [*] 40 kB / 110 kB @ 21 kB/s [######------------] [36.4%, 0s left]  [*] 40 kB / 110 kB @ 20 kB/s [######------------] [36.4%, 0s left]  [*] 72 kB / 110 kB @ 34 kB/s [###########-------] [65.6%, 0s left]  [*] 72 kB / 110 kB @ 33 kB/s [###########-------] [65.6%, 0s left]  [*] 72 kB / 110 kB @ 31 kB/s [###########-------] [65.6%, 0s left]  [*] 72 kB / 110 kB @ 30 kB/s [###########-------] [65.6%, 0s left]  Requirement already satisfied: PyAudio==0.2.11 from file:///C:/Users/manis/pipwin/PyAudio-0.2.11-cp37-cp37m-win_amd64.whl in c:\\users\\manis\\anaconda3\\lib\\site-packages (0.2.11)\n",
      "[*] 110 kB / 110 kB @ 30 kB/s [##################] [100%, 0s left]    \n"
     ]
    }
   ],
   "source": [
    "!pip install pipwin\n",
    "!pipwin install pyaudio"
   ]
  },
  {
   "cell_type": "code",
   "execution_count": 23,
   "metadata": {},
   "outputs": [],
   "source": [
    "import speech_recognition as sr\n",
    "import pyaudio"
   ]
  },
  {
   "cell_type": "code",
   "execution_count": 24,
   "metadata": {},
   "outputs": [
    {
     "name": "stdout",
     "output_type": "stream",
     "text": [
      "SAY SOMETHING\n",
      "TEXT:hi my name is Manish how are you what are you doing right now\n"
     ]
    }
   ],
   "source": [
    "import speech_recognition as sr\n",
    "r=sr.Recognizer()\n",
    "with sr.Microphone() as source:\n",
    "    print(\"SAY SOMETHING\");\n",
    "    audio=r.listen(source)\n",
    "try:\n",
    "    a=r.recognize_google(audio)\n",
    "    print(\"TEXT:\"+a);\n",
    "except:\n",
    "    pass;"
   ]
  },
  {
   "cell_type": "code",
   "execution_count": null,
   "metadata": {},
   "outputs": [],
   "source": []
  }
 ],
 "metadata": {
  "kernelspec": {
   "display_name": "Python 3",
   "language": "python",
   "name": "python3"
  },
  "language_info": {
   "codemirror_mode": {
    "name": "ipython",
    "version": 3
   },
   "file_extension": ".py",
   "mimetype": "text/x-python",
   "name": "python",
   "nbconvert_exporter": "python",
   "pygments_lexer": "ipython3",
   "version": "3.7.6"
  }
 },
 "nbformat": 4,
 "nbformat_minor": 4
}
